{
 "cells": [
  {
   "cell_type": "markdown",
   "id": "b917af9c",
   "metadata": {},
   "source": [
    "# iPython Notebook for Segmenting New Scar Cases "
   ]
  },
  {
   "cell_type": "markdown",
   "id": "ddee7768",
   "metadata": {},
   "source": [
    "## Make sure to have the following python files in the same directory as this iPython notebook: \n",
    "1. training.py \n",
    "2. unet3d.py\n",
    "3. cunet3d.py\n",
    "4. unetplusplus3d.py\n",
    "5. testing3D.py\n",
    "6. scar_mean.npy"
   ]
  },
  {
   "cell_type": "markdown",
   "id": "b5932b05",
   "metadata": {},
   "source": [
    "To use this notebook, ensure that your data meets the following requirements: \n",
    "1. Converted to a numpy array of in the formation (N_studies,256,256,16). You will need to pad your data to meet these requirements. The user can decide the best algorithm for padding, though note that the model was trained with zero-padding. For example, if you would like to segment 10 students, then your numpy array should have dimensions (10,256,256,16). \n",
    "2. Ensure that that the data type is unsigned integer 8 (uint8). \n"
   ]
  },
  {
   "cell_type": "code",
   "execution_count": 6,
   "id": "51afba33",
   "metadata": {},
   "outputs": [
    {
     "name": "stderr",
     "output_type": "stream",
     "text": [
      "2023-12-07 15:43:08.669452: I tensorflow/stream_executor/platform/default/dso_loader.cc:49] Successfully opened dynamic library libcudart.so.10.1\n"
     ]
    }
   ],
   "source": [
    "# Required Libraries \n",
    "import numpy as np \n",
    "import os \n",
    "\n",
    "# Keras Libraries \n",
    "from tensorflow.keras.utils import to_categorical \n",
    "from tensorflow.keras.preprocessing.image import ImageDataGenerator\n",
    "import tensorflow as tf\n",
    "\n",
    "\n",
    "# My libraries \n",
    "from unet3d import get_unet3D_multi \n",
    "from cunet3d import get_Cunet3D_mulit\n",
    "from unetplusplus3d import get_unetpp3D_multi\n",
    "\n",
    "from training import training_main \n",
    "from testing3D import testing_parallel"
   ]
  },
  {
   "cell_type": "code",
   "execution_count": null,
   "id": "ce8010d1",
   "metadata": {},
   "outputs": [],
   "source": [
    "# USER DATA INPUT\n",
    "\n",
    "dpath = # Enter path with .npy array here \n",
    "shift = np.load(dpath+'scar_mean.npy')\n",
    "\n",
    "imgs_ext = np.load(dpath) \n",
    "imgs_ext = (imgs_ext - scar_mean)/255 # Normalizes the data \n",
    "segs_ext = np.zeros(shape=imgs_ext.shape)\n",
    "\n"
   ]
  },
  {
   "cell_type": "code",
   "execution_count": null,
   "id": "d7cc05f1",
   "metadata": {},
   "outputs": [],
   "source": [
    "# USER MODEL TYPE SELECTION AND MODEL DEFINITION \n",
    "\n",
    "model_type = # User can input the models. The selection is: U-Net, Cascaded U-Net, U-Net++. Please input the name of the model of choice here. \n",
    "\n",
    "if model_type == \"U-Net\": \n",
    "    path1 = \"weights_unet.h5\"\n",
    "elif model_type == \"Cascaded U-Net\": \n",
    "    path1 = \"weights_cunet.h5\": \n",
    "elif model_type == \"U-Net++\": \n",
    "    path1 = \"weights_unetpp.h5\"\n",
    "else: \n",
    "    print('Please enter one of the appropriate options: U-Net, Cascaded U-Net, or U-Net++')\n",
    "    \n",
    "\n",
    "# Image Parameters \n",
    "img_rows = 256\n",
    "img_cols = 256\n",
    "slices = 16 \n",
    "\n",
    "\n",
    "# Model Parameters \n",
    "classes = 3 \n",
    "layers = 4\n",
    "min_convs = 4\n",
    "kernel = (3,3,3)\n",
    "lossfun = 'wcce_kld' # Need to write something for this later - might clean up model code as well \n",
    "\n",
    "# Hyperparameters \n",
    "decay = 0.98\n",
    "learning_rate = 1e-3 \n",
    "batches = 4\n",
    "epochs_total = 100\n",
    "epochs_batch = 5 \n",
    "weights_init = (1,20,1000) \n",
    "\n",
    "strategy = tf.distribute.MirroredStrategy()\n",
    "\n",
    "train_loss = np.zeros((epochs_total,))\n",
    "train_dice = np.zeros((epochs_total,))\n",
    "train_myo = np.zeros((epochs_total,))\n",
    "\n",
    "val_loss = np.zeros((epochs_total,))\n",
    "val_dice = np.zeros((epochs_total,))\n",
    "val_myo = np.zeros((epochs_total,))\n",
    "\n",
    "\n",
    "if model_type == \"U-Net\": \n",
    "    with strategy.scope():\n",
    "        model = get_unet3D_multi(img_rows, img_cols, slices, classes, layers, min_convs, kernel, learning_rate, lossfun, weights_init)\n",
    "    model.summary()\n",
    "elif model_type == \"Cascaded U-Net\": \n",
    "    with strategy.scope():\n",
    "        model = get_Cunet3D_mulit(img_rows, img_cols, slices, classes, layers, min_convs, kernel, learning_rate, lossfun, weights_init)\n",
    "    model.summary()\n",
    "    path1 = \"weights_cunet.h5\": \n",
    "elif model_type == \"U-Net++\": \n",
    "    with strategy.scope():\n",
    "        model = get_unetpp3D_multi(img_rows, img_cols, slices, classes, layers, min_convs, kernel, learning_rate, lossfun, weights_init)\n",
    "    model.summary()\n",
    "else: \n",
    "    print('Please enter one of the appropriate options: U-Net, Cascaded U-Net, or U-Net++')\n",
    "\n"
   ]
  },
  {
   "cell_type": "code",
   "execution_count": null,
   "id": "6d8130d8",
   "metadata": {},
   "outputs": [],
   "source": [
    "# INPUT THE DIRECTORY WHERE YOU WOULD LIKE TO SAVE THE SEGMENTATION RESULTS \n",
    "\n",
    "spath = # Input directory for saving results here. \n",
    "\n",
    "if not os.path.exists(savepath):\n",
    "    os.mkdir(savepath)\n",
    "\n",
    "# Testing model on validation set only \n",
    "preds, contours = testing_parallel(savepath, model, imgs_ext, segs_ext, gpus =1, classes, shift)"
   ]
  },
  {
   "cell_type": "code",
   "execution_count": null,
   "id": "8c9ef014",
   "metadata": {},
   "outputs": [],
   "source": [
    "# PLOTTING REPRESENTATIVE SEGMENTATION MASKS \n",
    "\n",
    "m = # INPUT WHICH STUDY NUMBER YOU WOULD LIKE TO PLOT. IF YOU ONLY HAVE 1 STUDY, then m = 1 \n",
    "\n",
    "for ii in range(16): \n",
    "    plt.subplot(4,4,ii+1)\n",
    "    plt.imshow(preds[m,:,:,:])\n",
    "    "
   ]
  },
  {
   "cell_type": "code",
   "execution_count": null,
   "id": "f84f2e59",
   "metadata": {},
   "outputs": [],
   "source": [
    "# PLOTTING REPRESENTATIVE SEGMENTATION MASKS \n",
    "\n",
    "m = # INPUT WHICH STUDY NUMBER YOU WOULD LIKE TO PLOT. IF YOU ONLY HAVE 1 STUDY, then m = 1 \n",
    "\n",
    "for ii in range(16): \n",
    "    plt.subplot(4,4,ii+1)\n",
    "    plt.imshow(contours[m,:,:,:,:])\n",
    "    "
   ]
  }
 ],
 "metadata": {
  "kernelspec": {
   "display_name": "Python 3",
   "language": "python",
   "name": "python3"
  },
  "language_info": {
   "codemirror_mode": {
    "name": "ipython",
    "version": 3
   },
   "file_extension": ".py",
   "mimetype": "text/x-python",
   "name": "python",
   "nbconvert_exporter": "python",
   "pygments_lexer": "ipython3",
   "version": "3.9.7"
  }
 },
 "nbformat": 4,
 "nbformat_minor": 5
}
